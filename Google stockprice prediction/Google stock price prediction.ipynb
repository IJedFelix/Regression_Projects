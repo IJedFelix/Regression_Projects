{
 "cells": [
  {
   "cell_type": "markdown",
   "metadata": {},
   "source": [
    "## Google stock price prediction"
   ]
  },
  {
   "cell_type": "markdown",
   "metadata": {},
   "source": [
    "_____________________"
   ]
  },
  {
   "cell_type": "markdown",
   "metadata": {},
   "source": [
    "How to get the latest stock data?\n",
    "\n",
    " - Visit Yahoo Finance\n",
    "\n",
    " - Search for “MSFT”\n",
    "\n",
    " - Click on “Historical Data”\n",
    "\n",
    " - Click on “Download”"
   ]
  },
  {
   "cell_type": "markdown",
   "metadata": {},
   "source": [
    "_____________________"
   ]
  },
  {
   "cell_type": "code",
   "execution_count": 17,
   "metadata": {},
   "outputs": [],
   "source": [
    "#importing libraries\n",
    "\n",
    "import numpy as np\n",
    "import pandas as pd\n",
    "\n",
    "import matplotlib.pyplot as plt\n",
    "import seaborn as sns\n",
    "\n",
    "from sklearn.model_selection import train_test_split\n",
    "\n",
    "from sklearn.metrics import r2_score\n",
    "\n",
    "from sklearn.linear_model import LinearRegression\n",
    "from sklearn.linear_model import Lasso\n",
    "from sklearn.linear_model import Ridge\n",
    "from sklearn.tree import DecisionTreeRegressor\n",
    "from sklearn.ensemble import RandomForestRegressor\n",
    "from sklearn.ensemble import GradientBoostingRegressor\n",
    "\n",
    "from warnings import filterwarnings\n",
    "filterwarnings(\"ignore\")"
   ]
  },
  {
   "cell_type": "code",
   "execution_count": 3,
   "metadata": {},
   "outputs": [],
   "source": [
    "df = pd.read_csv(\"GOOGL.csv\")"
   ]
  },
  {
   "cell_type": "code",
   "execution_count": 4,
   "metadata": {},
   "outputs": [
    {
     "data": {
      "text/html": [
       "<div>\n",
       "<style scoped>\n",
       "    .dataframe tbody tr th:only-of-type {\n",
       "        vertical-align: middle;\n",
       "    }\n",
       "\n",
       "    .dataframe tbody tr th {\n",
       "        vertical-align: top;\n",
       "    }\n",
       "\n",
       "    .dataframe thead th {\n",
       "        text-align: right;\n",
       "    }\n",
       "</style>\n",
       "<table border=\"1\" class=\"dataframe\">\n",
       "  <thead>\n",
       "    <tr style=\"text-align: right;\">\n",
       "      <th></th>\n",
       "      <th>Date</th>\n",
       "      <th>Open</th>\n",
       "      <th>High</th>\n",
       "      <th>Low</th>\n",
       "      <th>Close</th>\n",
       "      <th>Adj Close</th>\n",
       "      <th>Volume</th>\n",
       "    </tr>\n",
       "  </thead>\n",
       "  <tbody>\n",
       "    <tr>\n",
       "      <th>123</th>\n",
       "      <td>2021-03-18</td>\n",
       "      <td>2048.179932</td>\n",
       "      <td>2068.750000</td>\n",
       "      <td>2019.180054</td>\n",
       "      <td>2021.339966</td>\n",
       "      <td>2021.339966</td>\n",
       "      <td>1585000</td>\n",
       "    </tr>\n",
       "    <tr>\n",
       "      <th>87</th>\n",
       "      <td>2021-01-26</td>\n",
       "      <td>1885.989990</td>\n",
       "      <td>1915.750000</td>\n",
       "      <td>1876.130005</td>\n",
       "      <td>1907.949951</td>\n",
       "      <td>1907.949951</td>\n",
       "      <td>1573100</td>\n",
       "    </tr>\n",
       "    <tr>\n",
       "      <th>58</th>\n",
       "      <td>2020-12-11</td>\n",
       "      <td>1760.000000</td>\n",
       "      <td>1777.310059</td>\n",
       "      <td>1752.739990</td>\n",
       "      <td>1774.800049</td>\n",
       "      <td>1774.800049</td>\n",
       "      <td>931400</td>\n",
       "    </tr>\n",
       "    <tr>\n",
       "      <th>122</th>\n",
       "      <td>2021-03-17</td>\n",
       "      <td>2068.469971</td>\n",
       "      <td>2099.000000</td>\n",
       "      <td>2044.119995</td>\n",
       "      <td>2082.219971</td>\n",
       "      <td>2082.219971</td>\n",
       "      <td>1319100</td>\n",
       "    </tr>\n",
       "    <tr>\n",
       "      <th>115</th>\n",
       "      <td>2021-03-08</td>\n",
       "      <td>2084.060059</td>\n",
       "      <td>2113.739990</td>\n",
       "      <td>2005.189941</td>\n",
       "      <td>2007.500000</td>\n",
       "      <td>2007.500000</td>\n",
       "      <td>1843400</td>\n",
       "    </tr>\n",
       "    <tr>\n",
       "      <th>172</th>\n",
       "      <td>2021-05-27</td>\n",
       "      <td>2389.050049</td>\n",
       "      <td>2389.050049</td>\n",
       "      <td>2356.260010</td>\n",
       "      <td>2362.679932</td>\n",
       "      <td>2362.679932</td>\n",
       "      <td>1761200</td>\n",
       "    </tr>\n",
       "    <tr>\n",
       "      <th>84</th>\n",
       "      <td>2021-01-21</td>\n",
       "      <td>1893.650024</td>\n",
       "      <td>1932.079956</td>\n",
       "      <td>1879.410034</td>\n",
       "      <td>1884.150024</td>\n",
       "      <td>1884.150024</td>\n",
       "      <td>2931700</td>\n",
       "    </tr>\n",
       "    <tr>\n",
       "      <th>38</th>\n",
       "      <td>2020-11-12</td>\n",
       "      <td>1742.000000</td>\n",
       "      <td>1764.979980</td>\n",
       "      <td>1737.969971</td>\n",
       "      <td>1742.819946</td>\n",
       "      <td>1742.819946</td>\n",
       "      <td>1323700</td>\n",
       "    </tr>\n",
       "    <tr>\n",
       "      <th>164</th>\n",
       "      <td>2021-05-17</td>\n",
       "      <td>2263.570068</td>\n",
       "      <td>2289.780029</td>\n",
       "      <td>2255.510010</td>\n",
       "      <td>2288.919922</td>\n",
       "      <td>2288.919922</td>\n",
       "      <td>1079900</td>\n",
       "    </tr>\n",
       "    <tr>\n",
       "      <th>189</th>\n",
       "      <td>2021-06-22</td>\n",
       "      <td>2435.000000</td>\n",
       "      <td>2448.000000</td>\n",
       "      <td>2421.280029</td>\n",
       "      <td>2446.610107</td>\n",
       "      <td>2446.610107</td>\n",
       "      <td>1119500</td>\n",
       "    </tr>\n",
       "    <tr>\n",
       "      <th>124</th>\n",
       "      <td>2021-03-19</td>\n",
       "      <td>2029.729980</td>\n",
       "      <td>2037.040039</td>\n",
       "      <td>2002.930054</td>\n",
       "      <td>2026.959961</td>\n",
       "      <td>2026.959961</td>\n",
       "      <td>2303600</td>\n",
       "    </tr>\n",
       "    <tr>\n",
       "      <th>78</th>\n",
       "      <td>2021-01-12</td>\n",
       "      <td>1745.359985</td>\n",
       "      <td>1767.900024</td>\n",
       "      <td>1716.380005</td>\n",
       "      <td>1737.430054</td>\n",
       "      <td>1737.430054</td>\n",
       "      <td>1476400</td>\n",
       "    </tr>\n",
       "  </tbody>\n",
       "</table>\n",
       "</div>"
      ],
      "text/plain": [
       "           Date         Open         High          Low        Close  \\\n",
       "123  2021-03-18  2048.179932  2068.750000  2019.180054  2021.339966   \n",
       "87   2021-01-26  1885.989990  1915.750000  1876.130005  1907.949951   \n",
       "58   2020-12-11  1760.000000  1777.310059  1752.739990  1774.800049   \n",
       "122  2021-03-17  2068.469971  2099.000000  2044.119995  2082.219971   \n",
       "115  2021-03-08  2084.060059  2113.739990  2005.189941  2007.500000   \n",
       "172  2021-05-27  2389.050049  2389.050049  2356.260010  2362.679932   \n",
       "84   2021-01-21  1893.650024  1932.079956  1879.410034  1884.150024   \n",
       "38   2020-11-12  1742.000000  1764.979980  1737.969971  1742.819946   \n",
       "164  2021-05-17  2263.570068  2289.780029  2255.510010  2288.919922   \n",
       "189  2021-06-22  2435.000000  2448.000000  2421.280029  2446.610107   \n",
       "124  2021-03-19  2029.729980  2037.040039  2002.930054  2026.959961   \n",
       "78   2021-01-12  1745.359985  1767.900024  1716.380005  1737.430054   \n",
       "\n",
       "       Adj Close   Volume  \n",
       "123  2021.339966  1585000  \n",
       "87   1907.949951  1573100  \n",
       "58   1774.800049   931400  \n",
       "122  2082.219971  1319100  \n",
       "115  2007.500000  1843400  \n",
       "172  2362.679932  1761200  \n",
       "84   1884.150024  2931700  \n",
       "38   1742.819946  1323700  \n",
       "164  2288.919922  1079900  \n",
       "189  2446.610107  1119500  \n",
       "124  2026.959961  2303600  \n",
       "78   1737.430054  1476400  "
      ]
     },
     "execution_count": 4,
     "metadata": {},
     "output_type": "execute_result"
    }
   ],
   "source": [
    "df.sample(12)"
   ]
  },
  {
   "cell_type": "code",
   "execution_count": 5,
   "metadata": {},
   "outputs": [
    {
     "name": "stdout",
     "output_type": "stream",
     "text": [
      "<class 'pandas.core.frame.DataFrame'>\n",
      "RangeIndex: 251 entries, 0 to 250\n",
      "Data columns (total 7 columns):\n",
      " #   Column     Non-Null Count  Dtype  \n",
      "---  ------     --------------  -----  \n",
      " 0   Date       251 non-null    object \n",
      " 1   Open       251 non-null    float64\n",
      " 2   High       251 non-null    float64\n",
      " 3   Low        251 non-null    float64\n",
      " 4   Close      251 non-null    float64\n",
      " 5   Adj Close  251 non-null    float64\n",
      " 6   Volume     251 non-null    int64  \n",
      "dtypes: float64(5), int64(1), object(1)\n",
      "memory usage: 13.9+ KB\n"
     ]
    }
   ],
   "source": [
    "df.info()"
   ]
  },
  {
   "cell_type": "code",
   "execution_count": 6,
   "metadata": {},
   "outputs": [
    {
     "data": {
      "image/png": "[encoded data removed]",
      "text/plain": [
       "<Figure size 720x288 with 1 Axes>"
      ]
     },
     "metadata": {
      "needs_background": "light"
     },
     "output_type": "display_data"
    }
   ],
   "source": [
    "plt.figure(figsize=(10, 4))\n",
    "plt.title(\"Google Stock Prices\")\n",
    "plt.xlabel(\"Date\")\n",
    "plt.ylabel(\"Close\")\n",
    "plt.plot(df[\"Close\"])\n",
    "plt.show()"
   ]
  },
  {
   "cell_type": "code",
   "execution_count": 7,
   "metadata": {},
   "outputs": [
    {
     "name": "stdout",
     "output_type": "stream",
     "text": [
      "               Open      High       Low     Close  Adj Close    Volume\n",
      "Open       1.000000  0.999224  0.999267  0.998411   0.998411 -0.276386\n",
      "High       0.999224  1.000000  0.999201  0.999262   0.999262 -0.265748\n",
      "Low        0.999267  0.999201  1.000000  0.999356   0.999356 -0.288821\n",
      "Close      0.998411  0.999262  0.999356  1.000000   1.000000 -0.283646\n",
      "Adj Close  0.998411  0.999262  0.999356  1.000000   1.000000 -0.283646\n",
      "Volume    -0.276386 -0.265748 -0.288821 -0.283646  -0.283646  1.000000\n"
     ]
    },
    {
     "data": {
      "image/png": "[encoded data removed]",
      "text/plain": [
       "<Figure size 432x288 with 2 Axes>"
      ]
     },
     "metadata": {
      "needs_background": "light"
     },
     "output_type": "display_data"
    }
   ],
   "source": [
    "print(df.corr())\n",
    "sns.heatmap(df.corr())\n",
    "plt.show()"
   ]
  },
  {
   "cell_type": "code",
   "execution_count": 8,
   "metadata": {},
   "outputs": [],
   "source": [
    "x = df[[\"Open\", \"High\", \"Low\"]]"
   ]
  },
  {
   "cell_type": "code",
   "execution_count": 9,
   "metadata": {},
   "outputs": [
    {
     "data": {
      "text/html": [
       "<div>\n",
       "<style scoped>\n",
       "    .dataframe tbody tr th:only-of-type {\n",
       "        vertical-align: middle;\n",
       "    }\n",
       "\n",
       "    .dataframe tbody tr th {\n",
       "        vertical-align: top;\n",
       "    }\n",
       "\n",
       "    .dataframe thead th {\n",
       "        text-align: right;\n",
       "    }\n",
       "</style>\n",
       "<table border=\"1\" class=\"dataframe\">\n",
       "  <thead>\n",
       "    <tr style=\"text-align: right;\">\n",
       "      <th></th>\n",
       "      <th>Open</th>\n",
       "      <th>High</th>\n",
       "      <th>Low</th>\n",
       "    </tr>\n",
       "  </thead>\n",
       "  <tbody>\n",
       "    <tr>\n",
       "      <th>0</th>\n",
       "      <td>1431.619995</td>\n",
       "      <td>1440.060059</td>\n",
       "      <td>1402.680054</td>\n",
       "    </tr>\n",
       "    <tr>\n",
       "      <th>1</th>\n",
       "      <td>1450.319946</td>\n",
       "      <td>1463.969971</td>\n",
       "      <td>1429.500000</td>\n",
       "    </tr>\n",
       "    <tr>\n",
       "      <th>2</th>\n",
       "      <td>1452.089966</td>\n",
       "      <td>1453.079956</td>\n",
       "      <td>1402.680054</td>\n",
       "    </tr>\n",
       "    <tr>\n",
       "      <th>3</th>\n",
       "      <td>1402.680054</td>\n",
       "      <td>1437.989990</td>\n",
       "      <td>1402.150024</td>\n",
       "    </tr>\n",
       "    <tr>\n",
       "      <th>4</th>\n",
       "      <td>1425.050049</td>\n",
       "      <td>1445.939941</td>\n",
       "      <td>1407.680054</td>\n",
       "    </tr>\n",
       "    <tr>\n",
       "      <th>...</th>\n",
       "      <td>...</td>\n",
       "      <td>...</td>\n",
       "      <td>...</td>\n",
       "    </tr>\n",
       "    <tr>\n",
       "      <th>246</th>\n",
       "      <td>2838.989990</td>\n",
       "      <td>2859.000000</td>\n",
       "      <td>2825.000000</td>\n",
       "    </tr>\n",
       "    <tr>\n",
       "      <th>247</th>\n",
       "      <td>2859.909912</td>\n",
       "      <td>2867.260010</td>\n",
       "      <td>2835.000000</td>\n",
       "    </tr>\n",
       "    <tr>\n",
       "      <th>248</th>\n",
       "      <td>2855.429932</td>\n",
       "      <td>2889.010010</td>\n",
       "      <td>2826.949951</td>\n",
       "    </tr>\n",
       "    <tr>\n",
       "      <th>249</th>\n",
       "      <td>2879.010010</td>\n",
       "      <td>2886.000000</td>\n",
       "      <td>2848.030029</td>\n",
       "    </tr>\n",
       "    <tr>\n",
       "      <th>250</th>\n",
       "      <td>2860.610107</td>\n",
       "      <td>2869.000000</td>\n",
       "      <td>2809.399902</td>\n",
       "    </tr>\n",
       "  </tbody>\n",
       "</table>\n",
       "<p>251 rows × 3 columns</p>\n",
       "</div>"
      ],
      "text/plain": [
       "            Open         High          Low\n",
       "0    1431.619995  1440.060059  1402.680054\n",
       "1    1450.319946  1463.969971  1429.500000\n",
       "2    1452.089966  1453.079956  1402.680054\n",
       "3    1402.680054  1437.989990  1402.150024\n",
       "4    1425.050049  1445.939941  1407.680054\n",
       "..           ...          ...          ...\n",
       "246  2838.989990  2859.000000  2825.000000\n",
       "247  2859.909912  2867.260010  2835.000000\n",
       "248  2855.429932  2889.010010  2826.949951\n",
       "249  2879.010010  2886.000000  2848.030029\n",
       "250  2860.610107  2869.000000  2809.399902\n",
       "\n",
       "[251 rows x 3 columns]"
      ]
     },
     "execution_count": 9,
     "metadata": {},
     "output_type": "execute_result"
    }
   ],
   "source": [
    "x"
   ]
  },
  {
   "cell_type": "code",
   "execution_count": 20,
   "metadata": {},
   "outputs": [],
   "source": [
    "#splitting data into features and target\n",
    "x = df[[\"Open\", \"High\", \"Low\"]]\n",
    "y = df[\"Close\"]\n",
    "\n",
    "#splitting into train and test\n",
    "x_train, x_test, y_train, y_test = train_test_split(x, y, test_size=0.2, random_state=42)"
   ]
  },
  {
   "cell_type": "code",
   "execution_count": 21,
   "metadata": {},
   "outputs": [],
   "source": [
    "def predict(model,x_train, x_test, y_train, y_test):\n",
    "    model.fit(x_train,y_train)\n",
    "    preds=model.predict(x_test)\n",
    "    return r2_score(y_test,preds)"
   ]
  },
  {
   "cell_type": "code",
   "execution_count": 22,
   "metadata": {},
   "outputs": [],
   "source": [
    "LR = LinearRegression()\n",
    "LSR = Lasso()\n",
    "RID = Ridge()\n",
    "DTR = DecisionTreeRegressor()\n",
    "RFR = RandomForestRegressor()\n",
    "GBR = GradientBoostingRegressor()"
   ]
  },
  {
   "cell_type": "code",
   "execution_count": 23,
   "metadata": {},
   "outputs": [],
   "source": [
    "Model = [LR,LSR,RID,DTR,RFR,GBR]"
   ]
  },
  {
   "cell_type": "code",
   "execution_count": 24,
   "metadata": {},
   "outputs": [],
   "source": [
    "Algorithms = [\"Linear Regression\",\"Lasso\",\"Ridge\",\"Decision Tree Regressor\",\"Random Forest Regressor\",\"Gradient Boosting Regressor\"]"
   ]
  },
  {
   "cell_type": "code",
   "execution_count": 25,
   "metadata": {},
   "outputs": [],
   "source": [
    "scores = []\n",
    "for i in Model:\n",
    "    a = predict(i, x_train, x_test, y_train, y_test)\n",
    "    scores.append(a)"
   ]
  },
  {
   "cell_type": "code",
   "execution_count": 26,
   "metadata": {},
   "outputs": [
    {
     "data": {
      "text/html": [
       "<div>\n",
       "<style scoped>\n",
       "    .dataframe tbody tr th:only-of-type {\n",
       "        vertical-align: middle;\n",
       "    }\n",
       "\n",
       "    .dataframe tbody tr th {\n",
       "        vertical-align: top;\n",
       "    }\n",
       "\n",
       "    .dataframe thead th {\n",
       "        text-align: right;\n",
       "    }\n",
       "</style>\n",
       "<table border=\"1\" class=\"dataframe\">\n",
       "  <thead>\n",
       "    <tr style=\"text-align: right;\">\n",
       "      <th></th>\n",
       "      <th>Algorithms</th>\n",
       "      <th>Scores</th>\n",
       "    </tr>\n",
       "  </thead>\n",
       "  <tbody>\n",
       "    <tr>\n",
       "      <th>0</th>\n",
       "      <td>Ridge</td>\n",
       "      <td>0.999192</td>\n",
       "    </tr>\n",
       "    <tr>\n",
       "      <th>1</th>\n",
       "      <td>Linear Regression</td>\n",
       "      <td>0.999192</td>\n",
       "    </tr>\n",
       "    <tr>\n",
       "      <th>2</th>\n",
       "      <td>Lasso</td>\n",
       "      <td>0.998897</td>\n",
       "    </tr>\n",
       "    <tr>\n",
       "      <th>3</th>\n",
       "      <td>Gradient Boosting Regressor</td>\n",
       "      <td>0.998825</td>\n",
       "    </tr>\n",
       "    <tr>\n",
       "      <th>4</th>\n",
       "      <td>Random Forest Regressor</td>\n",
       "      <td>0.998798</td>\n",
       "    </tr>\n",
       "    <tr>\n",
       "      <th>5</th>\n",
       "      <td>Decision Tree Regressor</td>\n",
       "      <td>0.998124</td>\n",
       "    </tr>\n",
       "  </tbody>\n",
       "</table>\n",
       "</div>"
      ],
      "text/plain": [
       "                    Algorithms    Scores\n",
       "0                        Ridge  0.999192\n",
       "1            Linear Regression  0.999192\n",
       "2                        Lasso  0.998897\n",
       "3  Gradient Boosting Regressor  0.998825\n",
       "4      Random Forest Regressor  0.998798\n",
       "5      Decision Tree Regressor  0.998124"
      ]
     },
     "execution_count": 26,
     "metadata": {},
     "output_type": "execute_result"
    }
   ],
   "source": [
    "data = {'Algorithms': Algorithms, 'Scores': scores}\n",
    "df2 = pd.DataFrame(data=data)\n",
    "df2.sort_values(by=['Scores'],ascending=False,ignore_index=True,inplace=True)\n",
    "df2"
   ]
  },
  {
   "cell_type": "markdown",
   "metadata": {},
   "source": [
    "# **Result: We see Ridge (L2 regularization) along with Linear regression has the best R2 score**"
   ]
  },
  {
   "cell_type": "markdown",
   "metadata": {},
   "source": [
    "_________"
   ]
  }
 ],
 "metadata": {
  "kernelspec": {
   "display_name": "Python 3",
   "language": "python",
   "name": "python3"
  },
  "language_info": {
   "codemirror_mode": {
    "name": "ipython",
    "version": 3
   },
   "file_extension": ".py",
   "mimetype": "text/x-python",
   "name": "python",
   "nbconvert_exporter": "python",
   "pygments_lexer": "ipython3",
   "version": "3.8.5"
  }
 },
 "nbformat": 4,
 "nbformat_minor": 4
}
